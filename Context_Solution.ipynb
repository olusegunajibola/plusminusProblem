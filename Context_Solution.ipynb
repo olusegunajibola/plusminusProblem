{
  "nbformat": 4,
  "nbformat_minor": 0,
  "metadata": {
    "colab": {
      "name": "Context Solution.ipynb",
      "provenance": [],
      "collapsed_sections": [],
      "authorship_tag": "ABX9TyMN9wRVaGkTUwKUVV1rxhaw",
      "include_colab_link": true
    },
    "kernelspec": {
      "name": "python3",
      "display_name": "Python 3"
    },
    "language_info": {
      "name": "python"
    }
  },
  "cells": [
    {
      "cell_type": "markdown",
      "metadata": {
        "id": "view-in-github",
        "colab_type": "text"
      },
      "source": [
        "<a href=\"https://colab.research.google.com/github/olusegunajibola/plusminusProblem/blob/main/Context_Solution.ipynb\" target=\"_parent\"><img src=\"https://colab.research.google.com/assets/colab-badge.svg\" alt=\"Open In Colab\"/></a>"
      ]
    },
    {
      "cell_type": "markdown",
      "source": [
        "Write a function solution that, given a string S of length N, replaces all occurences of 'plus' with '+' and all occurrences of 'minus'  with '-'.\n",
        "\n"
      ],
      "metadata": {
        "id": "zk7dfhdJctFl"
      }
    },
    {
      "cell_type": "code",
      "execution_count": 9,
      "metadata": {
        "id": "4kl73y6zcX1L"
      },
      "outputs": [],
      "source": [
        "s = 'plusminusminusplusplusminusplusminusminusplusplusminusminusminus'"
      ]
    },
    {
      "cell_type": "code",
      "source": [
        "import re\n",
        "\n",
        "lst = re.split(('(plus)'), s)\n",
        "lst"
      ],
      "metadata": {
        "colab": {
          "base_uri": "https://localhost:8080/"
        },
        "id": "3BlxwckDhCFr",
        "outputId": "0a25fef1-f487-462a-c0d1-aac9c202102e"
      },
      "execution_count": null,
      "outputs": [
        {
          "output_type": "execute_result",
          "data": {
            "text/plain": [
              "['',\n",
              " 'plus',\n",
              " 'minusminus',\n",
              " 'plus',\n",
              " '',\n",
              " 'plus',\n",
              " 'minus',\n",
              " 'plus',\n",
              " 'minusminus',\n",
              " 'plus',\n",
              " '',\n",
              " 'plus',\n",
              " 'minusminus']"
            ]
          },
          "metadata": {},
          "execution_count": 7
        }
      ]
    },
    {
      "cell_type": "code",
      "source": [
        "def remvempty(empy):\n",
        "  for i in empy:\n",
        "    if i == '':\n",
        "     empy.remove(i)\n",
        "  return empy\n",
        "\n",
        "\n",
        "lst = remvempty(lst)\n",
        "lst"
      ],
      "metadata": {
        "colab": {
          "base_uri": "https://localhost:8080/"
        },
        "id": "dqcv9TJDs5ix",
        "outputId": "bb4633a1-2c06-4f64-bded-c0e54cbd5509"
      },
      "execution_count": null,
      "outputs": [
        {
          "output_type": "execute_result",
          "data": {
            "text/plain": [
              "['minusminus',\n",
              " 'plus',\n",
              " 'plus',\n",
              " 'minus',\n",
              " 'plus',\n",
              " 'minusminus',\n",
              " 'plus',\n",
              " 'plus',\n",
              " 'minusminus']"
            ]
          },
          "metadata": {},
          "execution_count": 274
        }
      ]
    },
    {
      "cell_type": "code",
      "source": [
        "def remvexess(lst):\n",
        "  for i in lst:\n",
        "    if i == 'minusminus':\n",
        "      # lst.remove(i)\n",
        "      lst.insert(lst.index(i), 'minus')\n",
        "      lst.insert(lst.index(i), 'minus')\n",
        "      lst.remove(i)\n",
        "  return lst"
      ],
      "metadata": {
        "id": "wcUOWh7rt1qb"
      },
      "execution_count": null,
      "outputs": []
    },
    {
      "cell_type": "code",
      "source": [
        "  lst = remvexess(lst)\n",
        "  lst"
      ],
      "metadata": {
        "colab": {
          "base_uri": "https://localhost:8080/"
        },
        "id": "Nwiil3R5w5Fp",
        "outputId": "90ae96e8-e719-475b-f79e-b078ac5fc746"
      },
      "execution_count": null,
      "outputs": [
        {
          "output_type": "execute_result",
          "data": {
            "text/plain": [
              "['minus',\n",
              " 'minus',\n",
              " 'plus',\n",
              " 'plus',\n",
              " 'minus',\n",
              " 'plus',\n",
              " 'minus',\n",
              " 'minus',\n",
              " 'plus',\n",
              " 'plus',\n",
              " 'minus',\n",
              " 'minus']"
            ]
          },
          "metadata": {},
          "execution_count": 276
        }
      ]
    },
    {
      "cell_type": "code",
      "source": [
        "'minus'*2"
      ],
      "metadata": {
        "colab": {
          "base_uri": "https://localhost:8080/",
          "height": 36
        },
        "id": "Fj9yvPXWxg1p",
        "outputId": "353cf089-54c2-43c8-e3dc-5733682fc1dd"
      },
      "execution_count": null,
      "outputs": [
        {
          "output_type": "execute_result",
          "data": {
            "text/plain": [
              "'minusminus'"
            ],
            "application/vnd.google.colaboratory.intrinsic+json": {
              "type": "string"
            }
          },
          "metadata": {},
          "execution_count": 254
        }
      ]
    },
    {
      "cell_type": "code",
      "source": [
        "empt = []\n",
        "\n",
        "for i in lst:\n",
        "  if i == 'plus':\n",
        "    empt.append('+')\n",
        "  else:\n",
        "    empt.append('-')"
      ],
      "metadata": {
        "id": "iv8IAe7ZmDoL"
      },
      "execution_count": null,
      "outputs": []
    },
    {
      "cell_type": "code",
      "source": [
        "empt"
      ],
      "metadata": {
        "colab": {
          "base_uri": "https://localhost:8080/"
        },
        "id": "YnJNwM7XmrH-",
        "outputId": "51384315-c366-4123-a446-1fbf2d41b75f"
      },
      "execution_count": null,
      "outputs": [
        {
          "output_type": "execute_result",
          "data": {
            "text/plain": [
              "['-', '-', '+', '+', '-', '+', '-', '-', '+', '+', '-', '-']"
            ]
          },
          "metadata": {},
          "execution_count": 278
        }
      ]
    },
    {
      "cell_type": "code",
      "source": [
        "fin = ''\n",
        "for i in empt:\n",
        "  fin += i"
      ],
      "metadata": {
        "id": "7Z2VRL9Imtjs"
      },
      "execution_count": null,
      "outputs": []
    },
    {
      "cell_type": "code",
      "source": [
        "fin"
      ],
      "metadata": {
        "colab": {
          "base_uri": "https://localhost:8080/",
          "height": 172
        },
        "id": "LSDgK8IFm7QB",
        "outputId": "f41732f8-0a5b-4216-d894-a143f3a312c1"
      },
      "execution_count": null,
      "outputs": [
        {
          "output_type": "error",
          "ename": "NameError",
          "evalue": "ignored",
          "traceback": [
            "\u001b[0;31m---------------------------------------------------------------------------\u001b[0m",
            "\u001b[0;31mNameError\u001b[0m                                 Traceback (most recent call last)",
            "\u001b[0;32m<ipython-input-2-56098ff75bef>\u001b[0m in \u001b[0;36m<module>\u001b[0;34m()\u001b[0m\n\u001b[0;32m----> 1\u001b[0;31m \u001b[0mfin\u001b[0m\u001b[0;34m\u001b[0m\u001b[0;34m\u001b[0m\u001b[0m\n\u001b[0m",
            "\u001b[0;31mNameError\u001b[0m: name 'fin' is not defined"
          ]
        }
      ]
    },
    {
      "cell_type": "code",
      "source": [
        "\n",
        "k = 'Plusminusplus'\n",
        "k = k.casefold()\n",
        "k.find('u')"
      ],
      "metadata": {
        "colab": {
          "base_uri": "https://localhost:8080/"
        },
        "id": "OgqIP9cLfaKP",
        "outputId": "9e24ed08-bc69-46b6-e3fe-ee3aa4c1a5d3"
      },
      "execution_count": null,
      "outputs": [
        {
          "output_type": "execute_result",
          "data": {
            "text/plain": [
              "2"
            ]
          },
          "metadata": {},
          "execution_count": 259
        }
      ]
    },
    {
      "cell_type": "code",
      "source": [
        "empt = []\n",
        "def string(text):\n",
        "  import re\n",
        "  \n",
        "\n",
        "  text =text.casefold()\n",
        "  text = re.split(('(plus)'), text)\n",
        "  def remvempty(text):\n",
        "    for i in text:\n",
        "      if i == '':\n",
        "        text.remove(i)\n",
        "    return text\n",
        "  text  = remvempty(text)\n",
        "  def remvexess(text):\n",
        "    for i in text:\n",
        "      if i == 'minusminus':\n",
        "        # text.remove(i)\n",
        "        text.insert(text.index(i), 'minus')\n",
        "        text.insert(text.index(i), 'minus')\n",
        "        text.remove(i)\n",
        "    return text\n",
        "  for i in text:\n",
        "    if i == 'plus':\n",
        "      empt.append('+')\n",
        "    else:\n",
        "      empt.append('-')\n",
        "  fin = ''\n",
        "  for i in empt:\n",
        "    fin += i\n",
        "  return fin"
      ],
      "metadata": {
        "id": "_Xvh38ztyWOz"
      },
      "execution_count": 12,
      "outputs": []
    },
    {
      "cell_type": "code",
      "source": [
        "string(s)"
      ],
      "metadata": {
        "colab": {
          "base_uri": "https://localhost:8080/",
          "height": 36
        },
        "id": "UoEq1e5ez6Jv",
        "outputId": "9ef683eb-9743-4408-d013-eb690db9cd6f"
      },
      "execution_count": 13,
      "outputs": [
        {
          "output_type": "execute_result",
          "data": {
            "text/plain": [
              "'+-++-+-++-'"
            ],
            "application/vnd.google.colaboratory.intrinsic+json": {
              "type": "string"
            }
          },
          "metadata": {},
          "execution_count": 13
        }
      ]
    },
    {
      "cell_type": "code",
      "source": [
        "# # Function to extract the secret message\n",
        "# def extractSecretMessage(Str, Sub):\n",
        "  \n",
        "#     # Replacing all occurrences of\n",
        "#     # Sub in Str by empty spaces\n",
        "#     Str= Str.replace(Sub, \" \")\n",
        "  \n",
        "#     # Removing unwanted spaces in the\n",
        "#     # start and end of the string\n",
        "      \n",
        "#     return Str.strip()\n",
        "  \n",
        "# # Driver code\n",
        "# Str = \"LIELIEILIEAMLIECOOL\"\n",
        "# Sub = \"LIE\"\n",
        "# print(extractSecretMessage(Str, Sub))"
      ],
      "metadata": {
        "id": "xSAKElSnz8Zx"
      },
      "execution_count": 11,
      "outputs": []
    },
    {
      "cell_type": "code",
      "source": [
        "s"
      ],
      "metadata": {
        "colab": {
          "base_uri": "https://localhost:8080/",
          "height": 36
        },
        "id": "3iFcSmbW3JeB",
        "outputId": "c9976b51-fcc2-4582-e4cc-8ba9f02e4349"
      },
      "execution_count": null,
      "outputs": [
        {
          "output_type": "execute_result",
          "data": {
            "text/plain": [
              "'plusminusminusplusplusminusplusminusminusplusplusminusminus'"
            ],
            "application/vnd.google.colaboratory.intrinsic+json": {
              "type": "string"
            }
          },
          "metadata": {},
          "execution_count": 4
        }
      ]
    },
    {
      "cell_type": "code",
      "source": [
        "s = s.replace('plus', '+')\n",
        "s = s.replace('minus', '-')\n",
        "s"
      ],
      "metadata": {
        "colab": {
          "base_uri": "https://localhost:8080/",
          "height": 36
        },
        "id": "lJmiv2Hp3QOn",
        "outputId": "e82e95a7-e650-4691-c609-6db280fa7ce4"
      },
      "execution_count": 14,
      "outputs": [
        {
          "output_type": "execute_result",
          "data": {
            "text/plain": [
              "'+--++-+--++---'"
            ],
            "application/vnd.google.colaboratory.intrinsic+json": {
              "type": "string"
            }
          },
          "metadata": {},
          "execution_count": 14
        }
      ]
    },
    {
      "cell_type": "code",
      "source": [
        "def stringv2(string):\n",
        "  string = string.replace('plus', '+')\n",
        "  string = string.replace('minus', '-')\n",
        "  return string"
      ],
      "metadata": {
        "id": "5qtMkUAd3mqr"
      },
      "execution_count": 15,
      "outputs": []
    },
    {
      "cell_type": "code",
      "source": [
        ""
      ],
      "metadata": {
        "id": "72BjuzZB4bcK"
      },
      "execution_count": null,
      "outputs": []
    }
  ]
}